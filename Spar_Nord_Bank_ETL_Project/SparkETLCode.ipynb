{
 "cells": [
  {
   "cell_type": "markdown",
   "id": "3b4a7c03",
   "metadata": {},
   "source": [
    "<h1 align='center'><font size=6 color='MidnightBlue'>SPAR NORD BANK ETL PROCESS AND DATA ANALYSIS</font></h1>"
   ]
  },
  {
   "cell_type": "markdown",
   "id": "1084bb89",
   "metadata": {},
   "source": [
    "# <font color='Chocolate'>PROBLEM STATEMENT</font>\n",
    "\n",
    "Spar Nord Bank is trying to observe the withdrawal behavior and the corresponding dependent factors to optimally manage the refill frequency. Apart from this, other insights also have to be drawn from the data.\n",
    "\n",
    "The overall task in this project will be to build a batch ETL pipeline to read transactional data from RDS, transform and load it into target dimensions and facts on Redshift Data Mart(Schema).\n",
    "\n",
    "Please note that the source data and target schema details are provided to better understand the source and targets, which would help design the ETL pipeline. Once the data is loaded into Redshift, you would have to write the analytical queries discussed above. \n",
    "\n",
    "We have data from more than 100 ATMs across Denmark. Data is captured for every transaction including, card type, location, date, time, ATM type, etc.\n",
    "\n",
    "Also, the transaction amount field in the data set was added separately using a random function for the analysis purpose. \n",
    "\n",
    "Coming to the analysis part, you will be tasked to carry out the calculations to perform the following analytical queries:\n",
    "\n",
    "- Top 10 ATMs where most transactions are in the ’inactive’ state\n",
    "- Number of ATM failures corresponding to the different weather conditions recorded at the time of the transactions\n",
    "- Top 10 ATMs with the most number of transactions throughout the year\n",
    "- Number of overall ATM transactions going inactive per month for each month\n",
    "- Top 10 ATMs with the highest total amount withdrawn throughout the year\n",
    "- Number of failed ATM transactions across various card types\n",
    "- Top 10 records with the number of transactions ordered by the ATM_number, ATM_manufacturer, location, weekend_flag and then total_transaction_count, on weekdays and on weekends throughout the year\n",
    "- Most active day in each ATMs from location \"Vejgaard\"\n",
    "\n"
   ]
  },
  {
   "cell_type": "markdown",
   "id": "b3074877",
   "metadata": {},
   "source": [
    "# <font color='Chocolate'>CURRENT OBJECTIVE</font>\n",
    "\n",
    "So far we have extracted the data from MySQL database using Apache Sqoop and placed it in HDFS under the path: **hdfs:///user/root/testdatabase/SRC_ATM_TRANS** (Amazon EMR cluster) in a text file compressed format (.gz).\n",
    "\n",
    "Now we have to perform the following:\n",
    "1. Read the ATM transactions data from HDFS and store it in a Spark dataframe (PySpark).\n",
    "2. Split the dataframe into dimensions and fact dataframes with proper keys generation for each dataframe and establish relationship between them.\n",
    "3. Store all the dimensions and fact data in the S3 bucket so that it can be loaded in Amazon Redshift and used for data analysis."
   ]
  },
  {
   "cell_type": "markdown",
   "id": "e81206df",
   "metadata": {},
   "source": [
    "## <font color='Chocolate'>1. Import PySpark Library And Establish Spark Session </font>"
   ]
  },
  {
   "cell_type": "code",
   "execution_count": 1,
   "id": "1fc10fa0",
   "metadata": {},
   "outputs": [
    {
     "data": {
      "application/vnd.jupyter.widget-view+json": {
       "model_id": "30668b6f4c1a45b088eb1be73f13ca9a",
       "version_major": 2,
       "version_minor": 0
      },
      "text/plain": [
       "VBox()"
      ]
     },
     "metadata": {},
     "output_type": "display_data"
    },
    {
     "name": "stdout",
     "output_type": "stream",
     "text": [
      "Starting Spark application\n"
     ]
    },
    {
     "data": {
      "text/html": [
       "<table>\n",
       "<tr><th>ID</th><th>YARN Application ID</th><th>Kind</th><th>State</th><th>Spark UI</th><th>Driver log</th><th>Current session?</th></tr><tr><td>2</td><td>application_1662079334838_0004</td><td>pyspark</td><td>idle</td><td><a target=\"_blank\" href=\"http://ip-172-31-92-83.ec2.internal:20888/proxy/application_1662079334838_0004/\">Link</a></td><td><a target=\"_blank\" href=\"http://ip-172-31-92-83.ec2.internal:8042/node/containerlogs/container_1662079334838_0004_01_000001/livy\">Link</a></td><td>✔</td></tr></table>"
      ],
      "text/plain": [
       "<IPython.core.display.HTML object>"
      ]
     },
     "metadata": {},
     "output_type": "display_data"
    },
    {
     "data": {
      "application/vnd.jupyter.widget-view+json": {
       "model_id": "",
       "version_major": 2,
       "version_minor": 0
      },
      "text/plain": [
       "FloatProgress(value=0.0, bar_style='info', description='Progress:', layout=Layout(height='25px', width='50%'),…"
      ]
     },
     "metadata": {},
     "output_type": "display_data"
    },
    {
     "name": "stdout",
     "output_type": "stream",
     "text": [
      "SparkSession available as 'spark'.\n"
     ]
    },
    {
     "data": {
      "application/vnd.jupyter.widget-view+json": {
       "model_id": "",
       "version_major": 2,
       "version_minor": 0
      },
      "text/plain": [
       "FloatProgress(value=0.0, bar_style='info', description='Progress:', layout=Layout(height='25px', width='50%'),…"
      ]
     },
     "metadata": {},
     "output_type": "display_data"
    }
   ],
   "source": [
    "import pyspark\n",
    "from pyspark.conf import SparkConf\n",
    "from pyspark.sql import SparkSession, SQLContext\n",
    "conf = SparkConf()\n",
    "conf.set('spark.sql.catalogImplementation', 'in-memory')\n",
    "spark = SparkSession.builder.appName('SparkETLCode').config(conf=conf).getOrCreate()\n",
    "sc = spark.sparkContext"
   ]
  },
  {
   "cell_type": "markdown",
   "id": "0a78ef72",
   "metadata": {},
   "source": [
    "## <font color='Chocolate'>2. Read the ATM Transactions data from HDFS </font>"
   ]
  },
  {
   "cell_type": "code",
   "execution_count": 2,
   "id": "2185ee88",
   "metadata": {},
   "outputs": [
    {
     "data": {
      "application/vnd.jupyter.widget-view+json": {
       "model_id": "02f6d7b836fc4e5cb93858a9e2447d01",
       "version_major": 2,
       "version_minor": 0
      },
      "text/plain": [
       "VBox()"
      ]
     },
     "metadata": {},
     "output_type": "display_data"
    },
    {
     "data": {
      "application/vnd.jupyter.widget-view+json": {
       "model_id": "",
       "version_major": 2,
       "version_minor": 0
      },
      "text/plain": [
       "FloatProgress(value=0.0, bar_style='info', description='Progress:', layout=Layout(height='25px', width='50%'),…"
      ]
     },
     "metadata": {},
     "output_type": "display_data"
    }
   ],
   "source": [
    "# Creating a data schema for the source data to be read\n",
    "from pyspark.sql.types import StructType, StructField, IntegerType, StringType, BooleanType, DoubleType, LongType\n",
    "spar_nord_schema = StructType([StructField('year', IntegerType(), nullable = True),\n",
    "                        StructField('month', StringType(), nullable = True),\n",
    "                        StructField('day', IntegerType(), nullable = True),\n",
    "                        StructField('weekday', StringType(), nullable = True),\n",
    "                        StructField('hour', IntegerType(), nullable = True),\n",
    "                        StructField('atm_status', StringType(), nullable = True),\n",
    "                        StructField('atm_id', StringType(), nullable = True),\n",
    "                        StructField('atm_manufacturer', StringType(), nullable = True),\n",
    "                        StructField('atm_location', StringType(), nullable = True),\n",
    "                        StructField('atm_streetname', StringType(), nullable = True),\n",
    "                        StructField('atm_street_number', IntegerType(), nullable = True),\n",
    "                        StructField('atm_zipcode', IntegerType(), nullable = True),\n",
    "                        StructField('atm_lat', DoubleType(), nullable = True),\n",
    "                        StructField('atm_lon', DoubleType(), nullable = True),\n",
    "                        StructField('currency', StringType(), nullable = True),\n",
    "                        StructField('card_type', StringType(), nullable = True),\n",
    "                        StructField('transaction_amount', IntegerType(), nullable = True),\n",
    "                        StructField('service', StringType(), nullable = True),\n",
    "                        StructField('message_code', StringType(), nullable = True),\n",
    "                        StructField('message_text', StringType(), nullable = True),\n",
    "                        StructField('weather_lat', DoubleType(), nullable = True),\n",
    "                        StructField('weather_lon', DoubleType(), nullable = True),\n",
    "                        StructField('weather_city_id', IntegerType(), nullable = True),\n",
    "                        StructField('weather_city_name', StringType(), nullable = True),\n",
    "                        StructField('temp', DoubleType(), nullable = True),\n",
    "                        StructField('pressure', IntegerType(), nullable = True),\n",
    "                        StructField('humidity', IntegerType(), nullable = True),\n",
    "                        StructField('wind_speed', IntegerType(), nullable = True),\n",
    "                        StructField('wind_deg', IntegerType(), nullable = True),\n",
    "                        StructField('rain_3h', DoubleType(), nullable = True),\n",
    "                        StructField('clouds_all', IntegerType(), nullable = True),\n",
    "                        StructField('weather_id', IntegerType(), nullable = True),\n",
    "                        StructField('weather_main', StringType(), nullable = True),\n",
    "                        StructField('weather_description', StringType(), nullable = True)])"
   ]
  },
  {
   "cell_type": "code",
   "execution_count": 3,
   "id": "1440fe31",
   "metadata": {
    "scrolled": true
   },
   "outputs": [
    {
     "data": {
      "application/vnd.jupyter.widget-view+json": {
       "model_id": "f81c9c717a3e41859e7964f4124efa69",
       "version_major": 2,
       "version_minor": 0
      },
      "text/plain": [
       "VBox()"
      ]
     },
     "metadata": {},
     "output_type": "display_data"
    },
    {
     "data": {
      "application/vnd.jupyter.widget-view+json": {
       "model_id": "",
       "version_major": 2,
       "version_minor": 0
      },
      "text/plain": [
       "FloatProgress(value=0.0, bar_style='info', description='Progress:', layout=Layout(height='25px', width='50%'),…"
      ]
     },
     "metadata": {},
     "output_type": "display_data"
    },
    {
     "name": "stdout",
     "output_type": "stream",
     "text": [
      "+----+-------+---+-------+----+----------+------+----------------+------------+-------------------+-----------------+-----------+-------+-------+--------+----------+------------------+----------+------------+------------+-----------+-----------+---------------+-----------------+------+--------+--------+----------+--------+-------+----------+----------+------------+--------------------+\n",
      "|year|  month|day|weekday|hour|atm_status|atm_id|atm_manufacturer|atm_location|     atm_streetname|atm_street_number|atm_zipcode|atm_lat|atm_lon|currency| card_type|transaction_amount|   service|message_code|message_text|weather_lat|weather_lon|weather_city_id|weather_city_name|  temp|pressure|humidity|wind_speed|wind_deg|rain_3h|clouds_all|weather_id|weather_main| weather_description|\n",
      "+----+-------+---+-------+----+----------+------+----------------+------------+-------------------+-----------------+-----------+-------+-------+--------+----------+------------------+----------+------------+------------+-----------+-----------+---------------+-----------------+------+--------+--------+----------+--------+-------+----------+----------+------------+--------------------+\n",
      "|2017|January|  1| Sunday|   0|    Active|     1|             NCR|  NÃƒÂ¦stved|        Farimagsvej|                8|       4700| 55.233| 11.763|     DKK|MasterCard|              5643|Withdrawal|        null|        null|      55.23|     11.761|        2616038|         Naestved|281.15|    1014|      87|         7|     260|  0.215|        92|       500|        Rain|         light rainr|\n",
      "|2017|January|  1| Sunday|   0|  Inactive|     2|             NCR|    Vejgaard|         Hadsundvej|               20|       9000| 57.043|   9.95|     DKK|MasterCard|              1764|Withdrawal|        null|        null|     57.048|      9.935|        2616235|   NÃƒÂ¸rresundby|280.64|    1020|      93|         9|     250|   0.59|        92|       500|        Rain|         light rainr|\n",
      "|2017|January|  1| Sunday|   0|  Inactive|     2|             NCR|    Vejgaard|         Hadsundvej|               20|       9000| 57.043|   9.95|     DKK|      VISA|              1891|Withdrawal|        null|        null|     57.048|      9.935|        2616235|   NÃƒÂ¸rresundby|280.64|    1020|      93|         9|     250|   0.59|        92|       500|        Rain|         light rainr|\n",
      "|2017|January|  1| Sunday|   0|  Inactive|     3|             NCR|       Ikast|RÃƒÂ¥dhusstrÃƒÂ¦det|               12|       7430| 56.139|  9.154|     DKK|      VISA|              4166|Withdrawal|        null|        null|     56.139|      9.158|        2619426|            Ikast|281.15|    1011|     100|         6|     240|    0.0|        75|       300|     Drizzle|light intensity d...|\n",
      "|2017|January|  1| Sunday|   0|    Active|     4|             NCR|  Svogerslev|       BrÃƒÂ¸nsager|                1|       4000| 55.634| 12.018|     DKK|MasterCard|              5153|Withdrawal|        null|        null|     55.642|      12.08|        2614481|         Roskilde|280.61|    1014|      87|         7|     260|    0.0|        88|       701|        Mist|               mistr|\n",
      "+----+-------+---+-------+----+----------+------+----------------+------------+-------------------+-----------------+-----------+-------+-------+--------+----------+------------------+----------+------------+------------+-----------+-----------+---------------+-----------------+------+--------+--------+----------+--------+-------+----------+----------+------------+--------------------+\n",
      "only showing top 5 rows"
     ]
    }
   ],
   "source": [
    "# Read the data from HDFS - CSV file format\n",
    "spar_nord_df = spark.read.csv('hdfs:///user/root/testdatabase/SRC_ATM_TRANS/', header=False, schema=spar_nord_schema)\n",
    "spar_nord_df.show(5)"
   ]
  },
  {
   "cell_type": "code",
   "execution_count": 4,
   "id": "eb7aa158",
   "metadata": {},
   "outputs": [
    {
     "data": {
      "application/vnd.jupyter.widget-view+json": {
       "model_id": "3c26913a9e464830b03ec21e192c8025",
       "version_major": 2,
       "version_minor": 0
      },
      "text/plain": [
       "VBox()"
      ]
     },
     "metadata": {},
     "output_type": "display_data"
    },
    {
     "data": {
      "application/vnd.jupyter.widget-view+json": {
       "model_id": "",
       "version_major": 2,
       "version_minor": 0
      },
      "text/plain": [
       "FloatProgress(value=0.0, bar_style='info', description='Progress:', layout=Layout(height='25px', width='50%'),…"
      ]
     },
     "metadata": {},
     "output_type": "display_data"
    },
    {
     "name": "stdout",
     "output_type": "stream",
     "text": [
      "2468572"
     ]
    }
   ],
   "source": [
    "# Check the total no. of records present in a dataframe\n",
    "spar_nord_df.count()"
   ]
  },
  {
   "cell_type": "code",
   "execution_count": 5,
   "id": "16f2c8a8",
   "metadata": {
    "scrolled": true
   },
   "outputs": [
    {
     "data": {
      "application/vnd.jupyter.widget-view+json": {
       "model_id": "24eadb63b6b440c9beef4952b4b1d278",
       "version_major": 2,
       "version_minor": 0
      },
      "text/plain": [
       "VBox()"
      ]
     },
     "metadata": {},
     "output_type": "display_data"
    },
    {
     "data": {
      "application/vnd.jupyter.widget-view+json": {
       "model_id": "",
       "version_major": 2,
       "version_minor": 0
      },
      "text/plain": [
       "FloatProgress(value=0.0, bar_style='info', description='Progress:', layout=Layout(height='25px', width='50%'),…"
      ]
     },
     "metadata": {},
     "output_type": "display_data"
    },
    {
     "name": "stdout",
     "output_type": "stream",
     "text": [
      "root\n",
      " |-- year: integer (nullable = true)\n",
      " |-- month: string (nullable = true)\n",
      " |-- day: integer (nullable = true)\n",
      " |-- weekday: string (nullable = true)\n",
      " |-- hour: integer (nullable = true)\n",
      " |-- atm_status: string (nullable = true)\n",
      " |-- atm_id: string (nullable = true)\n",
      " |-- atm_manufacturer: string (nullable = true)\n",
      " |-- atm_location: string (nullable = true)\n",
      " |-- atm_streetname: string (nullable = true)\n",
      " |-- atm_street_number: integer (nullable = true)\n",
      " |-- atm_zipcode: integer (nullable = true)\n",
      " |-- atm_lat: double (nullable = true)\n",
      " |-- atm_lon: double (nullable = true)\n",
      " |-- currency: string (nullable = true)\n",
      " |-- card_type: string (nullable = true)\n",
      " |-- transaction_amount: integer (nullable = true)\n",
      " |-- service: string (nullable = true)\n",
      " |-- message_code: string (nullable = true)\n",
      " |-- message_text: string (nullable = true)\n",
      " |-- weather_lat: double (nullable = true)\n",
      " |-- weather_lon: double (nullable = true)\n",
      " |-- weather_city_id: integer (nullable = true)\n",
      " |-- weather_city_name: string (nullable = true)\n",
      " |-- temp: double (nullable = true)\n",
      " |-- pressure: integer (nullable = true)\n",
      " |-- humidity: integer (nullable = true)\n",
      " |-- wind_speed: integer (nullable = true)\n",
      " |-- wind_deg: integer (nullable = true)\n",
      " |-- rain_3h: double (nullable = true)\n",
      " |-- clouds_all: integer (nullable = true)\n",
      " |-- weather_id: integer (nullable = true)\n",
      " |-- weather_main: string (nullable = true)\n",
      " |-- weather_description: string (nullable = true)"
     ]
    }
   ],
   "source": [
    "# Check the Schema of a dataframe\n",
    "spar_nord_df.printSchema()"
   ]
  },
  {
   "cell_type": "markdown",
   "id": "579dd6c5",
   "metadata": {},
   "source": [
    "#### Observation:\n",
    "From the above results we can see that:\n",
    "- Records count from the spark dataframe matches with MySQL table source data **(2468572)**. \n",
    "- All the attributes contains required datatypes as per the data dictionary provided in the business requirement. Now let's break this single dataframe into dimension and fact tables/files and build a proper relationship between dimensions and fact data."
   ]
  },
  {
   "cell_type": "markdown",
   "id": "8fcbc87a",
   "metadata": {},
   "source": [
    "## <font color='Chocolate'>3. Create Dimensions and Fact tables data from the Original Dataframe</font>"
   ]
  },
  {
   "cell_type": "markdown",
   "id": "e2cb98c2",
   "metadata": {},
   "source": [
    "Create a temporary view for the original dataframe in order to process further using SparkSQL."
   ]
  },
  {
   "cell_type": "code",
   "execution_count": 6,
   "id": "fe1e425d",
   "metadata": {
    "scrolled": true
   },
   "outputs": [
    {
     "data": {
      "application/vnd.jupyter.widget-view+json": {
       "model_id": "eb4f5fe8ccef4202b6a7ad26d9d1352b",
       "version_major": 2,
       "version_minor": 0
      },
      "text/plain": [
       "VBox()"
      ]
     },
     "metadata": {},
     "output_type": "display_data"
    },
    {
     "data": {
      "application/vnd.jupyter.widget-view+json": {
       "model_id": "",
       "version_major": 2,
       "version_minor": 0
      },
      "text/plain": [
       "FloatProgress(value=0.0, bar_style='info', description='Progress:', layout=Layout(height='25px', width='50%'),…"
      ]
     },
     "metadata": {},
     "output_type": "display_data"
    },
    {
     "name": "stdout",
     "output_type": "stream",
     "text": [
      "+----+-------+---+-------+----+----------+------+----------------+------------+-------------------+-----------------+-----------+-------+-------+--------+----------+------------------+----------+------------+------------+-----------+-----------+---------------+-----------------+------+--------+--------+----------+--------+-------+----------+----------+------------+--------------------+\n",
      "|year|  month|day|weekday|hour|atm_status|atm_id|atm_manufacturer|atm_location|     atm_streetname|atm_street_number|atm_zipcode|atm_lat|atm_lon|currency| card_type|transaction_amount|   service|message_code|message_text|weather_lat|weather_lon|weather_city_id|weather_city_name|  temp|pressure|humidity|wind_speed|wind_deg|rain_3h|clouds_all|weather_id|weather_main| weather_description|\n",
      "+----+-------+---+-------+----+----------+------+----------------+------------+-------------------+-----------------+-----------+-------+-------+--------+----------+------------------+----------+------------+------------+-----------+-----------+---------------+-----------------+------+--------+--------+----------+--------+-------+----------+----------+------------+--------------------+\n",
      "|2017|January|  1| Sunday|   0|    Active|     1|             NCR|  NÃƒÂ¦stved|        Farimagsvej|                8|       4700| 55.233| 11.763|     DKK|MasterCard|              5643|Withdrawal|        null|        null|      55.23|     11.761|        2616038|         Naestved|281.15|    1014|      87|         7|     260|  0.215|        92|       500|        Rain|         light rainr|\n",
      "|2017|January|  1| Sunday|   0|  Inactive|     2|             NCR|    Vejgaard|         Hadsundvej|               20|       9000| 57.043|   9.95|     DKK|MasterCard|              1764|Withdrawal|        null|        null|     57.048|      9.935|        2616235|   NÃƒÂ¸rresundby|280.64|    1020|      93|         9|     250|   0.59|        92|       500|        Rain|         light rainr|\n",
      "|2017|January|  1| Sunday|   0|  Inactive|     2|             NCR|    Vejgaard|         Hadsundvej|               20|       9000| 57.043|   9.95|     DKK|      VISA|              1891|Withdrawal|        null|        null|     57.048|      9.935|        2616235|   NÃƒÂ¸rresundby|280.64|    1020|      93|         9|     250|   0.59|        92|       500|        Rain|         light rainr|\n",
      "|2017|January|  1| Sunday|   0|  Inactive|     3|             NCR|       Ikast|RÃƒÂ¥dhusstrÃƒÂ¦det|               12|       7430| 56.139|  9.154|     DKK|      VISA|              4166|Withdrawal|        null|        null|     56.139|      9.158|        2619426|            Ikast|281.15|    1011|     100|         6|     240|    0.0|        75|       300|     Drizzle|light intensity d...|\n",
      "|2017|January|  1| Sunday|   0|    Active|     4|             NCR|  Svogerslev|       BrÃƒÂ¸nsager|                1|       4000| 55.634| 12.018|     DKK|MasterCard|              5153|Withdrawal|        null|        null|     55.642|      12.08|        2614481|         Roskilde|280.61|    1014|      87|         7|     260|    0.0|        88|       701|        Mist|               mistr|\n",
      "+----+-------+---+-------+----+----------+------+----------------+------------+-------------------+-----------------+-----------+-------+-------+--------+----------+------------------+----------+------------+------------+-----------+-----------+---------------+-----------------+------+--------+--------+----------+--------+-------+----------+----------+------------+--------------------+"
     ]
    }
   ],
   "source": [
    "# Create temporary view for the dataframe\n",
    "spar_nord_df.createOrReplaceTempView('spar_nord_trans')\n",
    "spark.sql('SELECT * FROM spar_nord_trans LIMIT 5').show()"
   ]
  },
  {
   "cell_type": "markdown",
   "id": "3068af47",
   "metadata": {},
   "source": [
    "### <font color='Chocolate'>3.1 Create Location Dimension Table</font>"
   ]
  },
  {
   "cell_type": "code",
   "execution_count": 7,
   "id": "61046169",
   "metadata": {},
   "outputs": [
    {
     "data": {
      "application/vnd.jupyter.widget-view+json": {
       "model_id": "bd8c9332aeda4cb5bd29d0c090eddbdd",
       "version_major": 2,
       "version_minor": 0
      },
      "text/plain": [
       "VBox()"
      ]
     },
     "metadata": {},
     "output_type": "display_data"
    },
    {
     "data": {
      "application/vnd.jupyter.widget-view+json": {
       "model_id": "",
       "version_major": 2,
       "version_minor": 0
      },
      "text/plain": [
       "FloatProgress(value=0.0, bar_style='info', description='Progress:', layout=Layout(height='25px', width='50%'),…"
      ]
     },
     "metadata": {},
     "output_type": "display_data"
    }
   ],
   "source": [
    "# Create location dimension table data with primary key generation for each location\n",
    "dim_location = spark.sql('''\n",
    "                        WITH location_details AS\n",
    "                        (\n",
    "                            SELECT \n",
    "                                atm_location as location,\n",
    "                                atm_streetname as streetname,\n",
    "                                atm_street_number as street_number,\n",
    "                                atm_zipcode as zipcode,\n",
    "                                atm_lat as lat,\n",
    "                                atm_lon as lon\n",
    "                            FROM\n",
    "                                spar_nord_trans\n",
    "                            GROUP BY\n",
    "                                atm_location,\n",
    "                                atm_streetname,\n",
    "                                atm_street_number,\n",
    "                                atm_zipcode,\n",
    "                                atm_lat,\n",
    "                                atm_lon\n",
    "                        )\n",
    "                        SELECT \n",
    "                            ROW_NUMBER() OVER (ORDER BY location) AS location_id,\n",
    "                            location,\n",
    "                            streetname,\n",
    "                            street_number,\n",
    "                            zipcode,\n",
    "                            lat,\n",
    "                            lon\n",
    "                        FROM location_details\n",
    "                        ''')"
   ]
  },
  {
   "cell_type": "code",
   "execution_count": 8,
   "id": "add78f76",
   "metadata": {},
   "outputs": [
    {
     "data": {
      "application/vnd.jupyter.widget-view+json": {
       "model_id": "4645e146e48544c790bb490a6e0812ad",
       "version_major": 2,
       "version_minor": 0
      },
      "text/plain": [
       "VBox()"
      ]
     },
     "metadata": {},
     "output_type": "display_data"
    },
    {
     "data": {
      "application/vnd.jupyter.widget-view+json": {
       "model_id": "",
       "version_major": 2,
       "version_minor": 0
      },
      "text/plain": [
       "FloatProgress(value=0.0, bar_style='info', description='Progress:', layout=Layout(height='25px', width='50%'),…"
      ]
     },
     "metadata": {},
     "output_type": "display_data"
    },
    {
     "name": "stdout",
     "output_type": "stream",
     "text": [
      "+-----------+--------------------------+------------+-------------+-------+------+-----+\n",
      "|location_id|location                  |streetname  |street_number|zipcode|lat   |lon  |\n",
      "+-----------+--------------------------+------------+-------------+-------+------+-----+\n",
      "|1          |Aabybro                   |ÃƒËœstergade|6            |9440   |57.162|9.73 |\n",
      "|2          |Aalborg Hallen            |Europa Plads|4            |9000   |57.044|9.913|\n",
      "|3          |Aalborg Storcenter  Afd   |Hobrovej    |452          |9200   |57.005|9.876|\n",
      "|4          |Aalborg Storcenter indg. D|Hobrovej    |452          |9200   |57.005|9.876|\n",
      "|5          |Aalborg Syd               |Hobrovej    |440          |9200   |57.005|9.881|\n",
      "+-----------+--------------------------+------------+-------------+-------+------+-----+\n",
      "only showing top 5 rows"
     ]
    }
   ],
   "source": [
    "# Check first 5 records of location dim\n",
    "dim_location.show(5, truncate=False)"
   ]
  },
  {
   "cell_type": "code",
   "execution_count": 9,
   "id": "7fceeb92",
   "metadata": {},
   "outputs": [
    {
     "data": {
      "application/vnd.jupyter.widget-view+json": {
       "model_id": "c4bd761705964699a3d1dc388a52d27f",
       "version_major": 2,
       "version_minor": 0
      },
      "text/plain": [
       "VBox()"
      ]
     },
     "metadata": {},
     "output_type": "display_data"
    },
    {
     "data": {
      "application/vnd.jupyter.widget-view+json": {
       "model_id": "",
       "version_major": 2,
       "version_minor": 0
      },
      "text/plain": [
       "FloatProgress(value=0.0, bar_style='info', description='Progress:', layout=Layout(height='25px', width='50%'),…"
      ]
     },
     "metadata": {},
     "output_type": "display_data"
    },
    {
     "name": "stdout",
     "output_type": "stream",
     "text": [
      "root\n",
      " |-- location_id: integer (nullable = true)\n",
      " |-- location: string (nullable = true)\n",
      " |-- streetname: string (nullable = true)\n",
      " |-- street_number: integer (nullable = true)\n",
      " |-- zipcode: integer (nullable = true)\n",
      " |-- lat: double (nullable = true)\n",
      " |-- lon: double (nullable = true)"
     ]
    }
   ],
   "source": [
    "# Check Location dim data structure\n",
    "dim_location.printSchema()"
   ]
  },
  {
   "cell_type": "code",
   "execution_count": 10,
   "id": "ac75d37f",
   "metadata": {},
   "outputs": [
    {
     "data": {
      "application/vnd.jupyter.widget-view+json": {
       "model_id": "98e39c345fd542eda2486ce6feef8504",
       "version_major": 2,
       "version_minor": 0
      },
      "text/plain": [
       "VBox()"
      ]
     },
     "metadata": {},
     "output_type": "display_data"
    },
    {
     "data": {
      "application/vnd.jupyter.widget-view+json": {
       "model_id": "",
       "version_major": 2,
       "version_minor": 0
      },
      "text/plain": [
       "FloatProgress(value=0.0, bar_style='info', description='Progress:', layout=Layout(height='25px', width='50%'),…"
      ]
     },
     "metadata": {},
     "output_type": "display_data"
    },
    {
     "name": "stdout",
     "output_type": "stream",
     "text": [
      "109"
     ]
    }
   ],
   "source": [
    "# Check total no. of records in location dim\n",
    "dim_location.count()"
   ]
  },
  {
   "cell_type": "markdown",
   "id": "bb9e3351",
   "metadata": {},
   "source": [
    "#### Observation:\n",
    "- We have successfully created location dimension data with unique records and assigned unique keys for each location.\n",
    "- We have total of 109 locations available in the dataset."
   ]
  },
  {
   "cell_type": "markdown",
   "id": "a552262f",
   "metadata": {},
   "source": [
    "### <font color='Chocolate'>3.2 Create Card Type Dimension Table</font>"
   ]
  },
  {
   "cell_type": "code",
   "execution_count": 11,
   "id": "d6f88780",
   "metadata": {},
   "outputs": [
    {
     "data": {
      "application/vnd.jupyter.widget-view+json": {
       "model_id": "74281de31c8f4b60b72d005ef53b585a",
       "version_major": 2,
       "version_minor": 0
      },
      "text/plain": [
       "VBox()"
      ]
     },
     "metadata": {},
     "output_type": "display_data"
    },
    {
     "data": {
      "application/vnd.jupyter.widget-view+json": {
       "model_id": "",
       "version_major": 2,
       "version_minor": 0
      },
      "text/plain": [
       "FloatProgress(value=0.0, bar_style='info', description='Progress:', layout=Layout(height='25px', width='50%'),…"
      ]
     },
     "metadata": {},
     "output_type": "display_data"
    }
   ],
   "source": [
    "# Create card type dimension table data with primary key generation\n",
    "dim_card_type = spark.sql('''\n",
    "                        WITH card_type_details AS\n",
    "                        (\n",
    "                            SELECT \n",
    "                                card_type\n",
    "                            FROM\n",
    "                                spar_nord_trans\n",
    "                            GROUP BY\n",
    "                                card_type\n",
    "                        )\n",
    "                        SELECT \n",
    "                            ROW_NUMBER() OVER (ORDER BY card_type) AS card_type_id,\n",
    "                            card_type\n",
    "                        FROM card_type_details\n",
    "                        ''')"
   ]
  },
  {
   "cell_type": "code",
   "execution_count": 12,
   "id": "ff15f2ea",
   "metadata": {},
   "outputs": [
    {
     "data": {
      "application/vnd.jupyter.widget-view+json": {
       "model_id": "dcf9fdff54474851ad7518d495ce4f43",
       "version_major": 2,
       "version_minor": 0
      },
      "text/plain": [
       "VBox()"
      ]
     },
     "metadata": {},
     "output_type": "display_data"
    },
    {
     "data": {
      "application/vnd.jupyter.widget-view+json": {
       "model_id": "",
       "version_major": 2,
       "version_minor": 0
      },
      "text/plain": [
       "FloatProgress(value=0.0, bar_style='info', description='Progress:', layout=Layout(height='25px', width='50%'),…"
      ]
     },
     "metadata": {},
     "output_type": "display_data"
    },
    {
     "name": "stdout",
     "output_type": "stream",
     "text": [
      "+------------+-------------------+\n",
      "|card_type_id|card_type          |\n",
      "+------------+-------------------+\n",
      "|1           |CIRRUS             |\n",
      "|2           |Dankort            |\n",
      "|3           |Dankort - on-us    |\n",
      "|4           |HÃƒÂ¦vekort        |\n",
      "|5           |HÃƒÂ¦vekort - on-us|\n",
      "+------------+-------------------+\n",
      "only showing top 5 rows"
     ]
    }
   ],
   "source": [
    "# Check first 5 records of card type dim\n",
    "dim_card_type.show(5, truncate=False)"
   ]
  },
  {
   "cell_type": "code",
   "execution_count": 13,
   "id": "13b5ee52",
   "metadata": {},
   "outputs": [
    {
     "data": {
      "application/vnd.jupyter.widget-view+json": {
       "model_id": "4e6ef730962a4aeb86af0496d303d095",
       "version_major": 2,
       "version_minor": 0
      },
      "text/plain": [
       "VBox()"
      ]
     },
     "metadata": {},
     "output_type": "display_data"
    },
    {
     "data": {
      "application/vnd.jupyter.widget-view+json": {
       "model_id": "",
       "version_major": 2,
       "version_minor": 0
      },
      "text/plain": [
       "FloatProgress(value=0.0, bar_style='info', description='Progress:', layout=Layout(height='25px', width='50%'),…"
      ]
     },
     "metadata": {},
     "output_type": "display_data"
    },
    {
     "name": "stdout",
     "output_type": "stream",
     "text": [
      "root\n",
      " |-- card_type_id: integer (nullable = true)\n",
      " |-- card_type: string (nullable = true)"
     ]
    }
   ],
   "source": [
    "# Check card type dim data structure\n",
    "dim_card_type.printSchema()"
   ]
  },
  {
   "cell_type": "code",
   "execution_count": 14,
   "id": "a7454ee9",
   "metadata": {},
   "outputs": [
    {
     "data": {
      "application/vnd.jupyter.widget-view+json": {
       "model_id": "4972afaa5d5d4ef38338512082960410",
       "version_major": 2,
       "version_minor": 0
      },
      "text/plain": [
       "VBox()"
      ]
     },
     "metadata": {},
     "output_type": "display_data"
    },
    {
     "data": {
      "application/vnd.jupyter.widget-view+json": {
       "model_id": "",
       "version_major": 2,
       "version_minor": 0
      },
      "text/plain": [
       "FloatProgress(value=0.0, bar_style='info', description='Progress:', layout=Layout(height='25px', width='50%'),…"
      ]
     },
     "metadata": {},
     "output_type": "display_data"
    },
    {
     "name": "stdout",
     "output_type": "stream",
     "text": [
      "12"
     ]
    }
   ],
   "source": [
    "# Check total no. of records in card type dim\n",
    "dim_card_type.count()"
   ]
  },
  {
   "cell_type": "markdown",
   "id": "004f4e92",
   "metadata": {},
   "source": [
    "#### Observation:\n",
    "- We have successfully created card type dimension data with unique records and assigned unique keys for each type.\n",
    "- We have total of 12 card types available in the dataset."
   ]
  },
  {
   "cell_type": "markdown",
   "id": "9c219126",
   "metadata": {},
   "source": [
    "### <font color='Chocolate'>3.3 Create Date Dimension Table</font>"
   ]
  },
  {
   "cell_type": "code",
   "execution_count": 15,
   "id": "5be7c793",
   "metadata": {},
   "outputs": [
    {
     "data": {
      "application/vnd.jupyter.widget-view+json": {
       "model_id": "a62e8b7992b9402aa7dc8b301d2feade",
       "version_major": 2,
       "version_minor": 0
      },
      "text/plain": [
       "VBox()"
      ]
     },
     "metadata": {},
     "output_type": "display_data"
    },
    {
     "data": {
      "application/vnd.jupyter.widget-view+json": {
       "model_id": "",
       "version_major": 2,
       "version_minor": 0
      },
      "text/plain": [
       "FloatProgress(value=0.0, bar_style='info', description='Progress:', layout=Layout(height='25px', width='50%'),…"
      ]
     },
     "metadata": {},
     "output_type": "display_data"
    }
   ],
   "source": [
    "# Create date dimension table data with primary key generation\n",
    "dim_date = spark.sql('''\n",
    "                        WITH date_details AS\n",
    "                        (\n",
    "                            SELECT \n",
    "                                CONCAT(year, '-', month, '-', day, ' ', hour, ':', '00', ':', '00') AS full_date_time,\n",
    "                                year,\n",
    "                                month,\n",
    "                                day,\n",
    "                                hour,\n",
    "                                weekday\n",
    "                            FROM\n",
    "                                spar_nord_trans\n",
    "                            GROUP BY\n",
    "                                year,\n",
    "                                month,\n",
    "                                day,\n",
    "                                hour,\n",
    "                                weekday\n",
    "                        )\n",
    "                        SELECT \n",
    "                            full_date_time,\n",
    "                            year,\n",
    "                            month,\n",
    "                            day,\n",
    "                            hour,\n",
    "                            weekday\n",
    "                        FROM date_details\n",
    "                        ''')"
   ]
  },
  {
   "cell_type": "code",
   "execution_count": 16,
   "id": "cf5adbf1",
   "metadata": {},
   "outputs": [
    {
     "data": {
      "application/vnd.jupyter.widget-view+json": {
       "model_id": "18b9b69c29d149dab0a0e3b4e680eb56",
       "version_major": 2,
       "version_minor": 0
      },
      "text/plain": [
       "VBox()"
      ]
     },
     "metadata": {},
     "output_type": "display_data"
    },
    {
     "data": {
      "application/vnd.jupyter.widget-view+json": {
       "model_id": "",
       "version_major": 2,
       "version_minor": 0
      },
      "text/plain": [
       "FloatProgress(value=0.0, bar_style='info', description='Progress:', layout=Layout(height='25px', width='50%'),…"
      ]
     },
     "metadata": {},
     "output_type": "display_data"
    },
    {
     "name": "stdout",
     "output_type": "stream",
     "text": [
      "+------------------------+----+--------+---+----+---------+\n",
      "|full_date_time          |year|month   |day|hour|weekday  |\n",
      "+------------------------+----+--------+---+----+---------+\n",
      "|2017-February-7 11:00:00|2017|February|7  |11  |Tuesday  |\n",
      "|2017-March-4 19:00:00   |2017|March   |4  |19  |Saturday |\n",
      "|2017-May-1 20:00:00     |2017|May     |1  |20  |Monday   |\n",
      "|2017-June-7 15:00:00    |2017|June    |7  |15  |Wednesday|\n",
      "|2017-August-2 8:00:00   |2017|August  |2  |8   |Wednesday|\n",
      "+------------------------+----+--------+---+----+---------+\n",
      "only showing top 5 rows"
     ]
    }
   ],
   "source": [
    "# Check first 5 records of date dim\n",
    "dim_date.show(5, truncate=False)"
   ]
  },
  {
   "cell_type": "code",
   "execution_count": 17,
   "id": "ddc51c14",
   "metadata": {},
   "outputs": [
    {
     "data": {
      "application/vnd.jupyter.widget-view+json": {
       "model_id": "434af70cfc1740c2a39dbb710b7f6b8f",
       "version_major": 2,
       "version_minor": 0
      },
      "text/plain": [
       "VBox()"
      ]
     },
     "metadata": {},
     "output_type": "display_data"
    },
    {
     "data": {
      "application/vnd.jupyter.widget-view+json": {
       "model_id": "",
       "version_major": 2,
       "version_minor": 0
      },
      "text/plain": [
       "FloatProgress(value=0.0, bar_style='info', description='Progress:', layout=Layout(height='25px', width='50%'),…"
      ]
     },
     "metadata": {},
     "output_type": "display_data"
    },
    {
     "name": "stdout",
     "output_type": "stream",
     "text": [
      "root\n",
      " |-- full_date_time: string (nullable = true)\n",
      " |-- year: integer (nullable = true)\n",
      " |-- month: string (nullable = true)\n",
      " |-- day: integer (nullable = true)\n",
      " |-- hour: integer (nullable = true)\n",
      " |-- weekday: string (nullable = true)"
     ]
    }
   ],
   "source": [
    "# Check date dim data structure\n",
    "dim_date.printSchema()"
   ]
  },
  {
   "cell_type": "markdown",
   "id": "1405e62f",
   "metadata": {},
   "source": [
    "**Convert full_date_time attribute data type to timestamp and create a primary key for date dim.**"
   ]
  },
  {
   "cell_type": "code",
   "execution_count": 18,
   "id": "0ef7359d",
   "metadata": {},
   "outputs": [
    {
     "data": {
      "application/vnd.jupyter.widget-view+json": {
       "model_id": "1c14c96c9a9a4b448ade39fac3dd3da0",
       "version_major": 2,
       "version_minor": 0
      },
      "text/plain": [
       "VBox()"
      ]
     },
     "metadata": {},
     "output_type": "display_data"
    },
    {
     "data": {
      "application/vnd.jupyter.widget-view+json": {
       "model_id": "",
       "version_major": 2,
       "version_minor": 0
      },
      "text/plain": [
       "FloatProgress(value=0.0, bar_style='info', description='Progress:', layout=Layout(height='25px', width='50%'),…"
      ]
     },
     "metadata": {},
     "output_type": "display_data"
    }
   ],
   "source": [
    "# Type conversion of full date time attribute\n",
    "from pyspark.sql.functions import col, unix_timestamp, row_number\n",
    "from pyspark.sql.window import Window\n",
    "dim_date = dim_date.withColumn('full_date_time', unix_timestamp(col('full_date_time'), 'yyyy-MMM-dd HH:mm:ss').cast('timestamp'))\n",
    "\n",
    "# Create primary key for date dim\n",
    "date_w = Window().orderBy('full_date_time')\n",
    "dim_date = dim_date.withColumn('date_id', row_number().over(date_w))\n",
    "dim_date = dim_date.select('date_id', 'full_date_time', 'year', 'month', 'day', 'hour', 'weekday')"
   ]
  },
  {
   "cell_type": "code",
   "execution_count": 19,
   "id": "6f184bef",
   "metadata": {},
   "outputs": [
    {
     "data": {
      "application/vnd.jupyter.widget-view+json": {
       "model_id": "44b712d99fa94a4fa923832a8edd14e6",
       "version_major": 2,
       "version_minor": 0
      },
      "text/plain": [
       "VBox()"
      ]
     },
     "metadata": {},
     "output_type": "display_data"
    },
    {
     "data": {
      "application/vnd.jupyter.widget-view+json": {
       "model_id": "",
       "version_major": 2,
       "version_minor": 0
      },
      "text/plain": [
       "FloatProgress(value=0.0, bar_style='info', description='Progress:', layout=Layout(height='25px', width='50%'),…"
      ]
     },
     "metadata": {},
     "output_type": "display_data"
    },
    {
     "name": "stdout",
     "output_type": "stream",
     "text": [
      "+-------+-------------------+----+-------+---+----+-------+\n",
      "|date_id|full_date_time     |year|month  |day|hour|weekday|\n",
      "+-------+-------------------+----+-------+---+----+-------+\n",
      "|1      |2017-01-01 00:00:00|2017|January|1  |0   |Sunday |\n",
      "|2      |2017-01-01 01:00:00|2017|January|1  |1   |Sunday |\n",
      "|3      |2017-01-01 02:00:00|2017|January|1  |2   |Sunday |\n",
      "|4      |2017-01-01 03:00:00|2017|January|1  |3   |Sunday |\n",
      "|5      |2017-01-01 04:00:00|2017|January|1  |4   |Sunday |\n",
      "+-------+-------------------+----+-------+---+----+-------+\n",
      "only showing top 5 rows"
     ]
    }
   ],
   "source": [
    "# Check first 5 records of date dim\n",
    "dim_date.show(5, truncate=False)"
   ]
  },
  {
   "cell_type": "code",
   "execution_count": 20,
   "id": "5da65536",
   "metadata": {},
   "outputs": [
    {
     "data": {
      "application/vnd.jupyter.widget-view+json": {
       "model_id": "35cce9693e6542f78832947382251cf8",
       "version_major": 2,
       "version_minor": 0
      },
      "text/plain": [
       "VBox()"
      ]
     },
     "metadata": {},
     "output_type": "display_data"
    },
    {
     "data": {
      "application/vnd.jupyter.widget-view+json": {
       "model_id": "",
       "version_major": 2,
       "version_minor": 0
      },
      "text/plain": [
       "FloatProgress(value=0.0, bar_style='info', description='Progress:', layout=Layout(height='25px', width='50%'),…"
      ]
     },
     "metadata": {},
     "output_type": "display_data"
    },
    {
     "name": "stdout",
     "output_type": "stream",
     "text": [
      "root\n",
      " |-- date_id: integer (nullable = true)\n",
      " |-- full_date_time: timestamp (nullable = true)\n",
      " |-- year: integer (nullable = true)\n",
      " |-- month: string (nullable = true)\n",
      " |-- day: integer (nullable = true)\n",
      " |-- hour: integer (nullable = true)\n",
      " |-- weekday: string (nullable = true)"
     ]
    }
   ],
   "source": [
    "# Check date dim data structure\n",
    "dim_date.printSchema()"
   ]
  },
  {
   "cell_type": "code",
   "execution_count": 21,
   "id": "958c64bb",
   "metadata": {},
   "outputs": [
    {
     "data": {
      "application/vnd.jupyter.widget-view+json": {
       "model_id": "fab79b89b08f41ce97b4bcd75998282c",
       "version_major": 2,
       "version_minor": 0
      },
      "text/plain": [
       "VBox()"
      ]
     },
     "metadata": {},
     "output_type": "display_data"
    },
    {
     "data": {
      "application/vnd.jupyter.widget-view+json": {
       "model_id": "",
       "version_major": 2,
       "version_minor": 0
      },
      "text/plain": [
       "FloatProgress(value=0.0, bar_style='info', description='Progress:', layout=Layout(height='25px', width='50%'),…"
      ]
     },
     "metadata": {},
     "output_type": "display_data"
    },
    {
     "name": "stdout",
     "output_type": "stream",
     "text": [
      "8685"
     ]
    }
   ],
   "source": [
    "# Check total no. of records in date dim\n",
    "dim_date.count()"
   ]
  },
  {
   "cell_type": "markdown",
   "id": "7cdb4938",
   "metadata": {},
   "source": [
    "#### Observation:\n",
    "- We have successfully created date dimension data with unique records and assigned unique keys for each type.\n",
    "- We have total of 8685 records available in the date dim dataset."
   ]
  },
  {
   "cell_type": "markdown",
   "id": "64cffeb3",
   "metadata": {},
   "source": [
    "### <font color='Chocolate'>3.4 Create ATM Dimension Table</font>"
   ]
  },
  {
   "cell_type": "code",
   "execution_count": 22,
   "id": "af9b2a84",
   "metadata": {},
   "outputs": [
    {
     "data": {
      "application/vnd.jupyter.widget-view+json": {
       "model_id": "b00c38c66ef84d38aa08cabda87dfe93",
       "version_major": 2,
       "version_minor": 0
      },
      "text/plain": [
       "VBox()"
      ]
     },
     "metadata": {},
     "output_type": "display_data"
    },
    {
     "data": {
      "application/vnd.jupyter.widget-view+json": {
       "model_id": "",
       "version_major": 2,
       "version_minor": 0
      },
      "text/plain": [
       "FloatProgress(value=0.0, bar_style='info', description='Progress:', layout=Layout(height='25px', width='50%'),…"
      ]
     },
     "metadata": {},
     "output_type": "display_data"
    },
    {
     "name": "stdout",
     "output_type": "stream",
     "text": [
      "+-----------+--------------------------+------------+-------------+-------+------+-----+\n",
      "|location_id|location                  |streetname  |street_number|zipcode|lat   |lon  |\n",
      "+-----------+--------------------------+------------+-------------+-------+------+-----+\n",
      "|1          |Aabybro                   |ÃƒËœstergade|6            |9440   |57.162|9.73 |\n",
      "|2          |Aalborg Hallen            |Europa Plads|4            |9000   |57.044|9.913|\n",
      "|3          |Aalborg Storcenter  Afd   |Hobrovej    |452          |9200   |57.005|9.876|\n",
      "|4          |Aalborg Storcenter indg. D|Hobrovej    |452          |9200   |57.005|9.876|\n",
      "|5          |Aalborg Syd               |Hobrovej    |440          |9200   |57.005|9.881|\n",
      "+-----------+--------------------------+------------+-------------+-------+------+-----+"
     ]
    }
   ],
   "source": [
    "# Create a temp view for location dimension to perform lookup operation on original dataset\n",
    "dim_location.createOrReplaceTempView('location_dim_vw')\n",
    "spark.sql('SELECT * FROM location_dim_vw LIMIT 5').show(truncate=False)"
   ]
  },
  {
   "cell_type": "code",
   "execution_count": 23,
   "id": "6979e66b",
   "metadata": {},
   "outputs": [
    {
     "data": {
      "application/vnd.jupyter.widget-view+json": {
       "model_id": "70d7cc42d935475da23ac70d68c29d5e",
       "version_major": 2,
       "version_minor": 0
      },
      "text/plain": [
       "VBox()"
      ]
     },
     "metadata": {},
     "output_type": "display_data"
    },
    {
     "data": {
      "application/vnd.jupyter.widget-view+json": {
       "model_id": "",
       "version_major": 2,
       "version_minor": 0
      },
      "text/plain": [
       "FloatProgress(value=0.0, bar_style='info', description='Progress:', layout=Layout(height='25px', width='50%'),…"
      ]
     },
     "metadata": {},
     "output_type": "display_data"
    }
   ],
   "source": [
    "# Create atm dimension table data with primary key generation\n",
    "dim_atm = spark.sql('''\n",
    "                        WITH atm_details AS\n",
    "                        (\n",
    "                            SELECT \n",
    "                                snt.atm_id AS atm_number,\n",
    "                                snt.atm_manufacturer AS atm_manufacturer,\n",
    "                                l.location_id AS atm_location_id\n",
    "                            FROM\n",
    "                                spar_nord_trans snt\n",
    "                                LEFT JOIN location_dim_vw l\n",
    "                                    ON snt.atm_location = l.location\n",
    "                                        AND snt.atm_streetname = l.streetname\n",
    "                                        AND snt.atm_street_number = l.street_number\n",
    "                                        AND snt.atm_lat = l.lat\n",
    "                                        AND snt.atm_lon = l.lon\n",
    "                            GROUP BY\n",
    "                                snt.atm_id,\n",
    "                                snt.atm_manufacturer,\n",
    "                                l.location_id\n",
    "                        )\n",
    "                        SELECT \n",
    "                            ROW_NUMBER() OVER (ORDER BY atm_number, atm_manufacturer, atm_location_id) AS atm_id,\n",
    "                            atm_number,\n",
    "                            atm_manufacturer,\n",
    "                            atm_location_id\n",
    "                        FROM atm_details\n",
    "                        ''')"
   ]
  },
  {
   "cell_type": "code",
   "execution_count": 24,
   "id": "81904439",
   "metadata": {},
   "outputs": [
    {
     "data": {
      "application/vnd.jupyter.widget-view+json": {
       "model_id": "f4763f57eec04a5e831969ddf2c40659",
       "version_major": 2,
       "version_minor": 0
      },
      "text/plain": [
       "VBox()"
      ]
     },
     "metadata": {},
     "output_type": "display_data"
    },
    {
     "data": {
      "application/vnd.jupyter.widget-view+json": {
       "model_id": "",
       "version_major": 2,
       "version_minor": 0
      },
      "text/plain": [
       "FloatProgress(value=0.0, bar_style='info', description='Progress:', layout=Layout(height='25px', width='50%'),…"
      ]
     },
     "metadata": {},
     "output_type": "display_data"
    },
    {
     "name": "stdout",
     "output_type": "stream",
     "text": [
      "+------+----------+----------------+---------------+\n",
      "|atm_id|atm_number|atm_manufacturer|atm_location_id|\n",
      "+------+----------+----------------+---------------+\n",
      "|1     |1         |NCR             |75             |\n",
      "|2     |10        |NCR             |76             |\n",
      "|3     |100       |NCR             |56             |\n",
      "|4     |101       |NCR             |17             |\n",
      "|5     |102       |NCR             |3              |\n",
      "+------+----------+----------------+---------------+\n",
      "only showing top 5 rows"
     ]
    }
   ],
   "source": [
    "# Check first 5 records of atm dim\n",
    "dim_atm.show(5, truncate=False)"
   ]
  },
  {
   "cell_type": "code",
   "execution_count": 25,
   "id": "5bbf23ef",
   "metadata": {},
   "outputs": [
    {
     "data": {
      "application/vnd.jupyter.widget-view+json": {
       "model_id": "6487b439efbe4bb3837c1dbb05d93d8d",
       "version_major": 2,
       "version_minor": 0
      },
      "text/plain": [
       "VBox()"
      ]
     },
     "metadata": {},
     "output_type": "display_data"
    },
    {
     "data": {
      "application/vnd.jupyter.widget-view+json": {
       "model_id": "",
       "version_major": 2,
       "version_minor": 0
      },
      "text/plain": [
       "FloatProgress(value=0.0, bar_style='info', description='Progress:', layout=Layout(height='25px', width='50%'),…"
      ]
     },
     "metadata": {},
     "output_type": "display_data"
    },
    {
     "name": "stdout",
     "output_type": "stream",
     "text": [
      "root\n",
      " |-- atm_id: integer (nullable = true)\n",
      " |-- atm_number: string (nullable = true)\n",
      " |-- atm_manufacturer: string (nullable = true)\n",
      " |-- atm_location_id: integer (nullable = true)"
     ]
    }
   ],
   "source": [
    "# Check atm dim data structure\n",
    "dim_atm.printSchema()"
   ]
  },
  {
   "cell_type": "code",
   "execution_count": 26,
   "id": "25e32ab2",
   "metadata": {},
   "outputs": [
    {
     "data": {
      "application/vnd.jupyter.widget-view+json": {
       "model_id": "726be4e956a44e0987e4ea05360b7000",
       "version_major": 2,
       "version_minor": 0
      },
      "text/plain": [
       "VBox()"
      ]
     },
     "metadata": {},
     "output_type": "display_data"
    },
    {
     "data": {
      "application/vnd.jupyter.widget-view+json": {
       "model_id": "",
       "version_major": 2,
       "version_minor": 0
      },
      "text/plain": [
       "FloatProgress(value=0.0, bar_style='info', description='Progress:', layout=Layout(height='25px', width='50%'),…"
      ]
     },
     "metadata": {},
     "output_type": "display_data"
    },
    {
     "name": "stdout",
     "output_type": "stream",
     "text": [
      "113"
     ]
    }
   ],
   "source": [
    "# Check total no. of records in atm dim\n",
    "dim_atm.count()"
   ]
  },
  {
   "cell_type": "markdown",
   "id": "a670166f",
   "metadata": {},
   "source": [
    "#### Observation:\n",
    "- We have successfully created atm dimension data with unique records and assigned unique keys for each type.\n",
    "- We have total of 113 records available in the atm dim dataset."
   ]
  },
  {
   "cell_type": "markdown",
   "id": "8a5b8ba8",
   "metadata": {},
   "source": [
    "### <font color='Chocolate'>3.5 Create ATM Transactions Fact Table</font>"
   ]
  },
  {
   "cell_type": "markdown",
   "id": "b56c6838",
   "metadata": {},
   "source": [
    "### Fact Stage 1\n",
    "Create first stage of ATM Trans fact table by performing left join with location dim from original dataset."
   ]
  },
  {
   "cell_type": "code",
   "execution_count": 27,
   "id": "271c2a52",
   "metadata": {},
   "outputs": [
    {
     "data": {
      "application/vnd.jupyter.widget-view+json": {
       "model_id": "d79c018d3f0e445193a10a1aa6a39ba3",
       "version_major": 2,
       "version_minor": 0
      },
      "text/plain": [
       "VBox()"
      ]
     },
     "metadata": {},
     "output_type": "display_data"
    },
    {
     "data": {
      "application/vnd.jupyter.widget-view+json": {
       "model_id": "",
       "version_major": 2,
       "version_minor": 0
      },
      "text/plain": [
       "FloatProgress(value=0.0, bar_style='info', description='Progress:', layout=Layout(height='25px', width='50%'),…"
      ]
     },
     "metadata": {},
     "output_type": "display_data"
    }
   ],
   "source": [
    "fact_atm_trans_stg1 = spar_nord_df.withColumnRenamed('atm_location','location').withColumnRenamed('atm_streetname','streetname')\\\n",
    "                      .withColumnRenamed('atm_street_number', 'street_number').withColumnRenamed('atm_zipcode', 'zipcode')\\\n",
    "                      .withColumnRenamed('atm_lat', 'lat').withColumnRenamed('atm_lon', 'lon')\n",
    "\n",
    "fact_atm_trans_stg1 = fact_atm_trans_stg1.join(dim_location, on=['location', 'streetname', 'street_number', 'zipcode','lat', 'lon'], how='left')\n",
    "fact_atm_trans_stg1 = fact_atm_trans_stg1.withColumnRenamed('location_id', 'atm_location_id')"
   ]
  },
  {
   "cell_type": "code",
   "execution_count": 28,
   "id": "4b928a2c",
   "metadata": {
    "scrolled": true
   },
   "outputs": [
    {
     "data": {
      "application/vnd.jupyter.widget-view+json": {
       "model_id": "078069bb712746fba921ce1e999f638b",
       "version_major": 2,
       "version_minor": 0
      },
      "text/plain": [
       "VBox()"
      ]
     },
     "metadata": {},
     "output_type": "display_data"
    },
    {
     "data": {
      "application/vnd.jupyter.widget-view+json": {
       "model_id": "",
       "version_major": 2,
       "version_minor": 0
      },
      "text/plain": [
       "FloatProgress(value=0.0, bar_style='info', description='Progress:', layout=Layout(height='25px', width='50%'),…"
      ]
     },
     "metadata": {},
     "output_type": "display_data"
    },
    {
     "name": "stdout",
     "output_type": "stream",
     "text": [
      "root\n",
      " |-- location: string (nullable = true)\n",
      " |-- streetname: string (nullable = true)\n",
      " |-- street_number: integer (nullable = true)\n",
      " |-- zipcode: integer (nullable = true)\n",
      " |-- lat: double (nullable = true)\n",
      " |-- lon: double (nullable = true)\n",
      " |-- year: integer (nullable = true)\n",
      " |-- month: string (nullable = true)\n",
      " |-- day: integer (nullable = true)\n",
      " |-- weekday: string (nullable = true)\n",
      " |-- hour: integer (nullable = true)\n",
      " |-- atm_status: string (nullable = true)\n",
      " |-- atm_id: string (nullable = true)\n",
      " |-- atm_manufacturer: string (nullable = true)\n",
      " |-- currency: string (nullable = true)\n",
      " |-- card_type: string (nullable = true)\n",
      " |-- transaction_amount: integer (nullable = true)\n",
      " |-- service: string (nullable = true)\n",
      " |-- message_code: string (nullable = true)\n",
      " |-- message_text: string (nullable = true)\n",
      " |-- weather_lat: double (nullable = true)\n",
      " |-- weather_lon: double (nullable = true)\n",
      " |-- weather_city_id: integer (nullable = true)\n",
      " |-- weather_city_name: string (nullable = true)\n",
      " |-- temp: double (nullable = true)\n",
      " |-- pressure: integer (nullable = true)\n",
      " |-- humidity: integer (nullable = true)\n",
      " |-- wind_speed: integer (nullable = true)\n",
      " |-- wind_deg: integer (nullable = true)\n",
      " |-- rain_3h: double (nullable = true)\n",
      " |-- clouds_all: integer (nullable = true)\n",
      " |-- weather_id: integer (nullable = true)\n",
      " |-- weather_main: string (nullable = true)\n",
      " |-- weather_description: string (nullable = true)\n",
      " |-- atm_location_id: integer (nullable = true)"
     ]
    }
   ],
   "source": [
    "# Check first stage data structure\n",
    "fact_atm_trans_stg1.printSchema()"
   ]
  },
  {
   "cell_type": "code",
   "execution_count": 29,
   "id": "48770709",
   "metadata": {},
   "outputs": [
    {
     "data": {
      "application/vnd.jupyter.widget-view+json": {
       "model_id": "09c03640e14e4b6c83f8423f84c72a23",
       "version_major": 2,
       "version_minor": 0
      },
      "text/plain": [
       "VBox()"
      ]
     },
     "metadata": {},
     "output_type": "display_data"
    },
    {
     "data": {
      "application/vnd.jupyter.widget-view+json": {
       "model_id": "",
       "version_major": 2,
       "version_minor": 0
      },
      "text/plain": [
       "FloatProgress(value=0.0, bar_style='info', description='Progress:', layout=Layout(height='25px', width='50%'),…"
      ]
     },
     "metadata": {},
     "output_type": "display_data"
    },
    {
     "name": "stdout",
     "output_type": "stream",
     "text": [
      "2468572"
     ]
    }
   ],
   "source": [
    "# Check first stage count\n",
    "fact_atm_trans_stg1.count()"
   ]
  },
  {
   "cell_type": "markdown",
   "id": "90f33612",
   "metadata": {},
   "source": [
    "### Fact Stage 2\n",
    "Create second stage of ATM Trans fact table by performing left join with card type dim from the first stage dataset."
   ]
  },
  {
   "cell_type": "code",
   "execution_count": 30,
   "id": "e3b6f77a",
   "metadata": {},
   "outputs": [
    {
     "data": {
      "application/vnd.jupyter.widget-view+json": {
       "model_id": "a60a621f518d4ee4841b09f5acecac41",
       "version_major": 2,
       "version_minor": 0
      },
      "text/plain": [
       "VBox()"
      ]
     },
     "metadata": {},
     "output_type": "display_data"
    },
    {
     "data": {
      "application/vnd.jupyter.widget-view+json": {
       "model_id": "",
       "version_major": 2,
       "version_minor": 0
      },
      "text/plain": [
       "FloatProgress(value=0.0, bar_style='info', description='Progress:', layout=Layout(height='25px', width='50%'),…"
      ]
     },
     "metadata": {},
     "output_type": "display_data"
    }
   ],
   "source": [
    "fact_atm_trans_stg2 = fact_atm_trans_stg1.join(dim_card_type, on=['card_type'], how='left')"
   ]
  },
  {
   "cell_type": "code",
   "execution_count": 31,
   "id": "3ed8e84e",
   "metadata": {
    "scrolled": true
   },
   "outputs": [
    {
     "data": {
      "application/vnd.jupyter.widget-view+json": {
       "model_id": "0b815bf2af0e4b169557a7837470d500",
       "version_major": 2,
       "version_minor": 0
      },
      "text/plain": [
       "VBox()"
      ]
     },
     "metadata": {},
     "output_type": "display_data"
    },
    {
     "data": {
      "application/vnd.jupyter.widget-view+json": {
       "model_id": "",
       "version_major": 2,
       "version_minor": 0
      },
      "text/plain": [
       "FloatProgress(value=0.0, bar_style='info', description='Progress:', layout=Layout(height='25px', width='50%'),…"
      ]
     },
     "metadata": {},
     "output_type": "display_data"
    },
    {
     "name": "stdout",
     "output_type": "stream",
     "text": [
      "root\n",
      " |-- card_type: string (nullable = true)\n",
      " |-- location: string (nullable = true)\n",
      " |-- streetname: string (nullable = true)\n",
      " |-- street_number: integer (nullable = true)\n",
      " |-- zipcode: integer (nullable = true)\n",
      " |-- lat: double (nullable = true)\n",
      " |-- lon: double (nullable = true)\n",
      " |-- year: integer (nullable = true)\n",
      " |-- month: string (nullable = true)\n",
      " |-- day: integer (nullable = true)\n",
      " |-- weekday: string (nullable = true)\n",
      " |-- hour: integer (nullable = true)\n",
      " |-- atm_status: string (nullable = true)\n",
      " |-- atm_id: string (nullable = true)\n",
      " |-- atm_manufacturer: string (nullable = true)\n",
      " |-- currency: string (nullable = true)\n",
      " |-- transaction_amount: integer (nullable = true)\n",
      " |-- service: string (nullable = true)\n",
      " |-- message_code: string (nullable = true)\n",
      " |-- message_text: string (nullable = true)\n",
      " |-- weather_lat: double (nullable = true)\n",
      " |-- weather_lon: double (nullable = true)\n",
      " |-- weather_city_id: integer (nullable = true)\n",
      " |-- weather_city_name: string (nullable = true)\n",
      " |-- temp: double (nullable = true)\n",
      " |-- pressure: integer (nullable = true)\n",
      " |-- humidity: integer (nullable = true)\n",
      " |-- wind_speed: integer (nullable = true)\n",
      " |-- wind_deg: integer (nullable = true)\n",
      " |-- rain_3h: double (nullable = true)\n",
      " |-- clouds_all: integer (nullable = true)\n",
      " |-- weather_id: integer (nullable = true)\n",
      " |-- weather_main: string (nullable = true)\n",
      " |-- weather_description: string (nullable = true)\n",
      " |-- atm_location_id: integer (nullable = true)\n",
      " |-- card_type_id: integer (nullable = true)"
     ]
    }
   ],
   "source": [
    "# Check second stage data structure\n",
    "fact_atm_trans_stg2.printSchema()"
   ]
  },
  {
   "cell_type": "code",
   "execution_count": 32,
   "id": "0b234fdb",
   "metadata": {},
   "outputs": [
    {
     "data": {
      "application/vnd.jupyter.widget-view+json": {
       "model_id": "ee72fd44110a4c9594ed0e97173433c2",
       "version_major": 2,
       "version_minor": 0
      },
      "text/plain": [
       "VBox()"
      ]
     },
     "metadata": {},
     "output_type": "display_data"
    },
    {
     "data": {
      "application/vnd.jupyter.widget-view+json": {
       "model_id": "",
       "version_major": 2,
       "version_minor": 0
      },
      "text/plain": [
       "FloatProgress(value=0.0, bar_style='info', description='Progress:', layout=Layout(height='25px', width='50%'),…"
      ]
     },
     "metadata": {},
     "output_type": "display_data"
    },
    {
     "name": "stdout",
     "output_type": "stream",
     "text": [
      "2468572"
     ]
    }
   ],
   "source": [
    "# Check second stage count\n",
    "fact_atm_trans_stg2.count()"
   ]
  },
  {
   "cell_type": "markdown",
   "id": "ab565f68",
   "metadata": {},
   "source": [
    "### Fact Stage 3\n",
    "Create third stage of ATM Trans fact table by performing left join with date dim from the second stage dataset."
   ]
  },
  {
   "cell_type": "code",
   "execution_count": 33,
   "id": "592dbb6d",
   "metadata": {},
   "outputs": [
    {
     "data": {
      "application/vnd.jupyter.widget-view+json": {
       "model_id": "224a80f9f6e04e4e82d1887c99f2a9e7",
       "version_major": 2,
       "version_minor": 0
      },
      "text/plain": [
       "VBox()"
      ]
     },
     "metadata": {},
     "output_type": "display_data"
    },
    {
     "data": {
      "application/vnd.jupyter.widget-view+json": {
       "model_id": "",
       "version_major": 2,
       "version_minor": 0
      },
      "text/plain": [
       "FloatProgress(value=0.0, bar_style='info', description='Progress:', layout=Layout(height='25px', width='50%'),…"
      ]
     },
     "metadata": {},
     "output_type": "display_data"
    }
   ],
   "source": [
    "fact_atm_trans_stg3 = fact_atm_trans_stg2.join(dim_date, on=['year', 'month', 'day', 'weekday', 'hour'], how='left')\n",
    "fact_atm_trans_stg3 = fact_atm_trans_stg3.withColumnRenamed('atm_id', 'atm_number')"
   ]
  },
  {
   "cell_type": "code",
   "execution_count": 34,
   "id": "27b41610",
   "metadata": {
    "scrolled": true
   },
   "outputs": [
    {
     "data": {
      "application/vnd.jupyter.widget-view+json": {
       "model_id": "2e07dfbfb121457eaf2c2bf7eec458b9",
       "version_major": 2,
       "version_minor": 0
      },
      "text/plain": [
       "VBox()"
      ]
     },
     "metadata": {},
     "output_type": "display_data"
    },
    {
     "data": {
      "application/vnd.jupyter.widget-view+json": {
       "model_id": "",
       "version_major": 2,
       "version_minor": 0
      },
      "text/plain": [
       "FloatProgress(value=0.0, bar_style='info', description='Progress:', layout=Layout(height='25px', width='50%'),…"
      ]
     },
     "metadata": {},
     "output_type": "display_data"
    },
    {
     "name": "stdout",
     "output_type": "stream",
     "text": [
      "root\n",
      " |-- year: integer (nullable = true)\n",
      " |-- month: string (nullable = true)\n",
      " |-- day: integer (nullable = true)\n",
      " |-- weekday: string (nullable = true)\n",
      " |-- hour: integer (nullable = true)\n",
      " |-- card_type: string (nullable = true)\n",
      " |-- location: string (nullable = true)\n",
      " |-- streetname: string (nullable = true)\n",
      " |-- street_number: integer (nullable = true)\n",
      " |-- zipcode: integer (nullable = true)\n",
      " |-- lat: double (nullable = true)\n",
      " |-- lon: double (nullable = true)\n",
      " |-- atm_status: string (nullable = true)\n",
      " |-- atm_number: string (nullable = true)\n",
      " |-- atm_manufacturer: string (nullable = true)\n",
      " |-- currency: string (nullable = true)\n",
      " |-- transaction_amount: integer (nullable = true)\n",
      " |-- service: string (nullable = true)\n",
      " |-- message_code: string (nullable = true)\n",
      " |-- message_text: string (nullable = true)\n",
      " |-- weather_lat: double (nullable = true)\n",
      " |-- weather_lon: double (nullable = true)\n",
      " |-- weather_city_id: integer (nullable = true)\n",
      " |-- weather_city_name: string (nullable = true)\n",
      " |-- temp: double (nullable = true)\n",
      " |-- pressure: integer (nullable = true)\n",
      " |-- humidity: integer (nullable = true)\n",
      " |-- wind_speed: integer (nullable = true)\n",
      " |-- wind_deg: integer (nullable = true)\n",
      " |-- rain_3h: double (nullable = true)\n",
      " |-- clouds_all: integer (nullable = true)\n",
      " |-- weather_id: integer (nullable = true)\n",
      " |-- weather_main: string (nullable = true)\n",
      " |-- weather_description: string (nullable = true)\n",
      " |-- atm_location_id: integer (nullable = true)\n",
      " |-- card_type_id: integer (nullable = true)\n",
      " |-- date_id: integer (nullable = true)\n",
      " |-- full_date_time: timestamp (nullable = true)"
     ]
    }
   ],
   "source": [
    "# Check third stage data structure\n",
    "fact_atm_trans_stg3.printSchema()"
   ]
  },
  {
   "cell_type": "code",
   "execution_count": 35,
   "id": "7b31c640",
   "metadata": {},
   "outputs": [
    {
     "data": {
      "application/vnd.jupyter.widget-view+json": {
       "model_id": "026eeded517e4e948dd9854d4545dcb2",
       "version_major": 2,
       "version_minor": 0
      },
      "text/plain": [
       "VBox()"
      ]
     },
     "metadata": {},
     "output_type": "display_data"
    },
    {
     "data": {
      "application/vnd.jupyter.widget-view+json": {
       "model_id": "",
       "version_major": 2,
       "version_minor": 0
      },
      "text/plain": [
       "FloatProgress(value=0.0, bar_style='info', description='Progress:', layout=Layout(height='25px', width='50%'),…"
      ]
     },
     "metadata": {},
     "output_type": "display_data"
    },
    {
     "name": "stdout",
     "output_type": "stream",
     "text": [
      "2468572"
     ]
    }
   ],
   "source": [
    "# Check third stage count\n",
    "fact_atm_trans_stg3.count()"
   ]
  },
  {
   "cell_type": "markdown",
   "id": "ccab9968",
   "metadata": {},
   "source": [
    "### Fact Stage 4\n",
    "Create fourth stage of ATM Trans fact table by performing left join with atm dim from the third stage dataset."
   ]
  },
  {
   "cell_type": "code",
   "execution_count": 36,
   "id": "d420502a",
   "metadata": {},
   "outputs": [
    {
     "data": {
      "application/vnd.jupyter.widget-view+json": {
       "model_id": "a92da291bc0e437cb68d9c5395ff3c0f",
       "version_major": 2,
       "version_minor": 0
      },
      "text/plain": [
       "VBox()"
      ]
     },
     "metadata": {},
     "output_type": "display_data"
    },
    {
     "data": {
      "application/vnd.jupyter.widget-view+json": {
       "model_id": "",
       "version_major": 2,
       "version_minor": 0
      },
      "text/plain": [
       "FloatProgress(value=0.0, bar_style='info', description='Progress:', layout=Layout(height='25px', width='50%'),…"
      ]
     },
     "metadata": {},
     "output_type": "display_data"
    }
   ],
   "source": [
    "fact_atm_trans_stg4 = fact_atm_trans_stg3.join(dim_atm, on=['atm_number', 'atm_manufacturer', 'atm_location_id'], how='left')\n",
    "fact_atm_trans_stg4 = fact_atm_trans_stg4.withColumnRenamed('atm_location_id', 'weather_loc_id')"
   ]
  },
  {
   "cell_type": "code",
   "execution_count": 37,
   "id": "0426aa3c",
   "metadata": {
    "scrolled": true
   },
   "outputs": [
    {
     "data": {
      "application/vnd.jupyter.widget-view+json": {
       "model_id": "3543f025d78846ddb4c3256511d7c6db",
       "version_major": 2,
       "version_minor": 0
      },
      "text/plain": [
       "VBox()"
      ]
     },
     "metadata": {},
     "output_type": "display_data"
    },
    {
     "data": {
      "application/vnd.jupyter.widget-view+json": {
       "model_id": "",
       "version_major": 2,
       "version_minor": 0
      },
      "text/plain": [
       "FloatProgress(value=0.0, bar_style='info', description='Progress:', layout=Layout(height='25px', width='50%'),…"
      ]
     },
     "metadata": {},
     "output_type": "display_data"
    },
    {
     "name": "stdout",
     "output_type": "stream",
     "text": [
      "root\n",
      " |-- atm_number: string (nullable = true)\n",
      " |-- atm_manufacturer: string (nullable = true)\n",
      " |-- weather_loc_id: integer (nullable = true)\n",
      " |-- year: integer (nullable = true)\n",
      " |-- month: string (nullable = true)\n",
      " |-- day: integer (nullable = true)\n",
      " |-- weekday: string (nullable = true)\n",
      " |-- hour: integer (nullable = true)\n",
      " |-- card_type: string (nullable = true)\n",
      " |-- location: string (nullable = true)\n",
      " |-- streetname: string (nullable = true)\n",
      " |-- street_number: integer (nullable = true)\n",
      " |-- zipcode: integer (nullable = true)\n",
      " |-- lat: double (nullable = true)\n",
      " |-- lon: double (nullable = true)\n",
      " |-- atm_status: string (nullable = true)\n",
      " |-- currency: string (nullable = true)\n",
      " |-- transaction_amount: integer (nullable = true)\n",
      " |-- service: string (nullable = true)\n",
      " |-- message_code: string (nullable = true)\n",
      " |-- message_text: string (nullable = true)\n",
      " |-- weather_lat: double (nullable = true)\n",
      " |-- weather_lon: double (nullable = true)\n",
      " |-- weather_city_id: integer (nullable = true)\n",
      " |-- weather_city_name: string (nullable = true)\n",
      " |-- temp: double (nullable = true)\n",
      " |-- pressure: integer (nullable = true)\n",
      " |-- humidity: integer (nullable = true)\n",
      " |-- wind_speed: integer (nullable = true)\n",
      " |-- wind_deg: integer (nullable = true)\n",
      " |-- rain_3h: double (nullable = true)\n",
      " |-- clouds_all: integer (nullable = true)\n",
      " |-- weather_id: integer (nullable = true)\n",
      " |-- weather_main: string (nullable = true)\n",
      " |-- weather_description: string (nullable = true)\n",
      " |-- card_type_id: integer (nullable = true)\n",
      " |-- date_id: integer (nullable = true)\n",
      " |-- full_date_time: timestamp (nullable = true)\n",
      " |-- atm_id: integer (nullable = true)"
     ]
    }
   ],
   "source": [
    "# Check fourth stage data structure\n",
    "fact_atm_trans_stg4.printSchema()"
   ]
  },
  {
   "cell_type": "code",
   "execution_count": 38,
   "id": "4b493141",
   "metadata": {},
   "outputs": [
    {
     "data": {
      "application/vnd.jupyter.widget-view+json": {
       "model_id": "9977fde8c72c47a1bda2603c419be1b3",
       "version_major": 2,
       "version_minor": 0
      },
      "text/plain": [
       "VBox()"
      ]
     },
     "metadata": {},
     "output_type": "display_data"
    },
    {
     "data": {
      "application/vnd.jupyter.widget-view+json": {
       "model_id": "",
       "version_major": 2,
       "version_minor": 0
      },
      "text/plain": [
       "FloatProgress(value=0.0, bar_style='info', description='Progress:', layout=Layout(height='25px', width='50%'),…"
      ]
     },
     "metadata": {},
     "output_type": "display_data"
    },
    {
     "name": "stdout",
     "output_type": "stream",
     "text": [
      "2468572"
     ]
    }
   ],
   "source": [
    "# Check fourth stage count\n",
    "fact_atm_trans_stg4.count()"
   ]
  },
  {
   "cell_type": "markdown",
   "id": "1f270773",
   "metadata": {},
   "source": [
    "### Final Fact ATM Transaction table\n",
    "We have created the fact table in relationship with all the dimension tables as primary-foreign keys. Now create a primary key for the final fact table and select the required columns from it."
   ]
  },
  {
   "cell_type": "code",
   "execution_count": 39,
   "id": "3a5d2a11",
   "metadata": {},
   "outputs": [
    {
     "data": {
      "application/vnd.jupyter.widget-view+json": {
       "model_id": "31f47f890aca449f85a8a01c56783577",
       "version_major": 2,
       "version_minor": 0
      },
      "text/plain": [
       "VBox()"
      ]
     },
     "metadata": {},
     "output_type": "display_data"
    },
    {
     "data": {
      "application/vnd.jupyter.widget-view+json": {
       "model_id": "",
       "version_major": 2,
       "version_minor": 0
      },
      "text/plain": [
       "FloatProgress(value=0.0, bar_style='info', description='Progress:', layout=Layout(height='25px', width='50%'),…"
      ]
     },
     "metadata": {},
     "output_type": "display_data"
    }
   ],
   "source": [
    "# Create a primary key for fact table\n",
    "atm_trans_w = Window().orderBy('date_id')\n",
    "fact_atm_trans = fact_atm_trans_stg4.withColumn('trans_id', row_number().over(atm_trans_w))"
   ]
  },
  {
   "cell_type": "code",
   "execution_count": 40,
   "id": "0f911d0b",
   "metadata": {},
   "outputs": [
    {
     "data": {
      "application/vnd.jupyter.widget-view+json": {
       "model_id": "af40f7992b4743a4aee208ffceca01f0",
       "version_major": 2,
       "version_minor": 0
      },
      "text/plain": [
       "VBox()"
      ]
     },
     "metadata": {},
     "output_type": "display_data"
    },
    {
     "data": {
      "application/vnd.jupyter.widget-view+json": {
       "model_id": "",
       "version_major": 2,
       "version_minor": 0
      },
      "text/plain": [
       "FloatProgress(value=0.0, bar_style='info', description='Progress:', layout=Layout(height='25px', width='50%'),…"
      ]
     },
     "metadata": {},
     "output_type": "display_data"
    }
   ],
   "source": [
    "# Select the required columns from the final fact table\n",
    "fact_atm_trans = fact_atm_trans.select('trans_id', 'atm_id', 'weather_loc_id', 'date_id', 'card_type_id', \n",
    "                                       'atm_status', 'currency', 'service', 'transaction_amount', 'message_code',\n",
    "                                       'message_text', 'rain_3h', 'clouds_all', 'weather_id', 'weather_main',\n",
    "                                       'weather_description')\n",
    "fact_atm_trans = fact_atm_trans.withColumn('trans_id', col('trans_id').cast(LongType()))"
   ]
  },
  {
   "cell_type": "code",
   "execution_count": 41,
   "id": "017e2d1d",
   "metadata": {
    "scrolled": true
   },
   "outputs": [
    {
     "data": {
      "application/vnd.jupyter.widget-view+json": {
       "model_id": "4897ddcced244937821078d67e1f73d6",
       "version_major": 2,
       "version_minor": 0
      },
      "text/plain": [
       "VBox()"
      ]
     },
     "metadata": {},
     "output_type": "display_data"
    },
    {
     "data": {
      "application/vnd.jupyter.widget-view+json": {
       "model_id": "",
       "version_major": 2,
       "version_minor": 0
      },
      "text/plain": [
       "FloatProgress(value=0.0, bar_style='info', description='Progress:', layout=Layout(height='25px', width='50%'),…"
      ]
     },
     "metadata": {},
     "output_type": "display_data"
    },
    {
     "name": "stdout",
     "output_type": "stream",
     "text": [
      "+--------+------+--------------+-------+------------+----------+--------+----------+------------------+------------+------------+-------+----------+----------+------------+--------------------+\n",
      "|trans_id|atm_id|weather_loc_id|date_id|card_type_id|atm_status|currency|   service|transaction_amount|message_code|message_text|rain_3h|clouds_all|weather_id|weather_main| weather_description|\n",
      "+--------+------+--------------+-------+------------+----------+--------+----------+------------------+------------+------------+-------+----------+----------+------------+--------------------+\n",
      "|       1|    92|            30|      1|           7|    Active|     DKK|Withdrawal|               470|        null|        null|    0.0|        75|       300|     Drizzle|light intensity d...|\n",
      "|       2|    92|            30|      1|          11|    Active|     DKK|Withdrawal|              4009|        null|        null|    0.0|        75|       300|     Drizzle|light intensity d...|\n",
      "|       3|    23|            78|      1|           9|    Active|     DKK|Withdrawal|              1630|        null|        null|   0.59|        92|       500|        Rain|         light rainr|\n",
      "|       4|    23|            78|      1|           7|    Active|     DKK|Withdrawal|              9948|        null|        null|   0.59|        92|       500|        Rain|         light rainr|\n",
      "|       5|    22|            86|      1|          10|  Inactive|     DKK|Withdrawal|              6068|        null|        null|    0.0|        75|       300|     Drizzle|light intensity d...|\n",
      "+--------+------+--------------+-------+------------+----------+--------+----------+------------------+------------+------------+-------+----------+----------+------------+--------------------+\n",
      "only showing top 5 rows"
     ]
    }
   ],
   "source": [
    "# Check first 5 records in fact atm trans\n",
    "fact_atm_trans.show(5)"
   ]
  },
  {
   "cell_type": "code",
   "execution_count": 42,
   "id": "109c1e2f",
   "metadata": {},
   "outputs": [
    {
     "data": {
      "application/vnd.jupyter.widget-view+json": {
       "model_id": "ca372c4d8c09496f8b90b4a8bab3609b",
       "version_major": 2,
       "version_minor": 0
      },
      "text/plain": [
       "VBox()"
      ]
     },
     "metadata": {},
     "output_type": "display_data"
    },
    {
     "data": {
      "application/vnd.jupyter.widget-view+json": {
       "model_id": "",
       "version_major": 2,
       "version_minor": 0
      },
      "text/plain": [
       "FloatProgress(value=0.0, bar_style='info', description='Progress:', layout=Layout(height='25px', width='50%'),…"
      ]
     },
     "metadata": {},
     "output_type": "display_data"
    },
    {
     "name": "stdout",
     "output_type": "stream",
     "text": [
      "root\n",
      " |-- trans_id: long (nullable = true)\n",
      " |-- atm_id: integer (nullable = true)\n",
      " |-- weather_loc_id: integer (nullable = true)\n",
      " |-- date_id: integer (nullable = true)\n",
      " |-- card_type_id: integer (nullable = true)\n",
      " |-- atm_status: string (nullable = true)\n",
      " |-- currency: string (nullable = true)\n",
      " |-- service: string (nullable = true)\n",
      " |-- transaction_amount: integer (nullable = true)\n",
      " |-- message_code: string (nullable = true)\n",
      " |-- message_text: string (nullable = true)\n",
      " |-- rain_3h: double (nullable = true)\n",
      " |-- clouds_all: integer (nullable = true)\n",
      " |-- weather_id: integer (nullable = true)\n",
      " |-- weather_main: string (nullable = true)\n",
      " |-- weather_description: string (nullable = true)"
     ]
    }
   ],
   "source": [
    "# Check fact data structure\n",
    "fact_atm_trans.printSchema()"
   ]
  },
  {
   "cell_type": "code",
   "execution_count": 43,
   "id": "041dfa52",
   "metadata": {},
   "outputs": [
    {
     "data": {
      "application/vnd.jupyter.widget-view+json": {
       "model_id": "19bf76d1157149e3bb9afd148eaedeaa",
       "version_major": 2,
       "version_minor": 0
      },
      "text/plain": [
       "VBox()"
      ]
     },
     "metadata": {},
     "output_type": "display_data"
    },
    {
     "data": {
      "application/vnd.jupyter.widget-view+json": {
       "model_id": "",
       "version_major": 2,
       "version_minor": 0
      },
      "text/plain": [
       "FloatProgress(value=0.0, bar_style='info', description='Progress:', layout=Layout(height='25px', width='50%'),…"
      ]
     },
     "metadata": {},
     "output_type": "display_data"
    },
    {
     "name": "stdout",
     "output_type": "stream",
     "text": [
      "2468572"
     ]
    }
   ],
   "source": [
    "# Check fact table count\n",
    "fact_atm_trans.count()"
   ]
  },
  {
   "cell_type": "markdown",
   "id": "7e235bd7",
   "metadata": {},
   "source": [
    "#### Observation:\n",
    "- We have successfully created atm transaction fact table data and established primary-foreign keys relationship with dimension tables.\n",
    "- We have total of 2468572 records available in the fact dataset."
   ]
  },
  {
   "cell_type": "markdown",
   "id": "60e4ff7c",
   "metadata": {},
   "source": [
    "## <font color='Chocolate'>4. Copy all the Dimensions and Fact tables data in S3 bucket</font>"
   ]
  },
  {
   "cell_type": "code",
   "execution_count": 44,
   "id": "27fc41c5",
   "metadata": {},
   "outputs": [
    {
     "data": {
      "application/vnd.jupyter.widget-view+json": {
       "model_id": "73c16f1e14ba443d97afcacdf63bd8f7",
       "version_major": 2,
       "version_minor": 0
      },
      "text/plain": [
       "VBox()"
      ]
     },
     "metadata": {},
     "output_type": "display_data"
    },
    {
     "data": {
      "application/vnd.jupyter.widget-view+json": {
       "model_id": "",
       "version_major": 2,
       "version_minor": 0
      },
      "text/plain": [
       "FloatProgress(value=0.0, bar_style='info', description='Progress:', layout=Layout(height='25px', width='50%'),…"
      ]
     },
     "metadata": {},
     "output_type": "display_data"
    }
   ],
   "source": [
    "# Copying data of Location dim to S3 bucket in CSV format\n",
    "dim_location.write.csv('s3://s3-spar-nord-etl-spark-redshift/DIMENSION/DIM_LOCATION', header=False, mode='overwrite')"
   ]
  },
  {
   "cell_type": "code",
   "execution_count": 45,
   "id": "bb63c92c",
   "metadata": {},
   "outputs": [
    {
     "data": {
      "application/vnd.jupyter.widget-view+json": {
       "model_id": "8ecbc9cf5c2c4020ae46ed0f80987668",
       "version_major": 2,
       "version_minor": 0
      },
      "text/plain": [
       "VBox()"
      ]
     },
     "metadata": {},
     "output_type": "display_data"
    },
    {
     "data": {
      "application/vnd.jupyter.widget-view+json": {
       "model_id": "",
       "version_major": 2,
       "version_minor": 0
      },
      "text/plain": [
       "FloatProgress(value=0.0, bar_style='info', description='Progress:', layout=Layout(height='25px', width='50%'),…"
      ]
     },
     "metadata": {},
     "output_type": "display_data"
    }
   ],
   "source": [
    "# Copying data of Card Type dim to S3 bucket in CSV format\n",
    "dim_card_type.write.csv('s3://s3-spar-nord-etl-spark-redshift/DIMENSION/DIM_CARD_TYPE', header=False, mode='overwrite')"
   ]
  },
  {
   "cell_type": "code",
   "execution_count": 46,
   "id": "8fbff2d1",
   "metadata": {},
   "outputs": [
    {
     "data": {
      "application/vnd.jupyter.widget-view+json": {
       "model_id": "68a5df61fb374ad78ce72662ca3341cd",
       "version_major": 2,
       "version_minor": 0
      },
      "text/plain": [
       "VBox()"
      ]
     },
     "metadata": {},
     "output_type": "display_data"
    },
    {
     "data": {
      "application/vnd.jupyter.widget-view+json": {
       "model_id": "",
       "version_major": 2,
       "version_minor": 0
      },
      "text/plain": [
       "FloatProgress(value=0.0, bar_style='info', description='Progress:', layout=Layout(height='25px', width='50%'),…"
      ]
     },
     "metadata": {},
     "output_type": "display_data"
    }
   ],
   "source": [
    "# Copying data of Date dim to S3 bucket in CSV format\n",
    "dim_date.write.csv('s3://s3-spar-nord-etl-spark-redshift/DIMENSION/DIM_DATE', header=False, mode='overwrite')"
   ]
  },
  {
   "cell_type": "code",
   "execution_count": 47,
   "id": "7b62c0f7",
   "metadata": {},
   "outputs": [
    {
     "data": {
      "application/vnd.jupyter.widget-view+json": {
       "model_id": "9d1a0749ade549fcbb3faef60d93de70",
       "version_major": 2,
       "version_minor": 0
      },
      "text/plain": [
       "VBox()"
      ]
     },
     "metadata": {},
     "output_type": "display_data"
    },
    {
     "data": {
      "application/vnd.jupyter.widget-view+json": {
       "model_id": "",
       "version_major": 2,
       "version_minor": 0
      },
      "text/plain": [
       "FloatProgress(value=0.0, bar_style='info', description='Progress:', layout=Layout(height='25px', width='50%'),…"
      ]
     },
     "metadata": {},
     "output_type": "display_data"
    }
   ],
   "source": [
    "# Copying data of ATM dim to S3 bucket in CSV format\n",
    "dim_atm.write.csv('s3://s3-spar-nord-etl-spark-redshift/DIMENSION/DIM_ATM', header=False, mode='overwrite')"
   ]
  },
  {
   "cell_type": "code",
   "execution_count": 48,
   "id": "9f5b89e4",
   "metadata": {},
   "outputs": [
    {
     "data": {
      "application/vnd.jupyter.widget-view+json": {
       "model_id": "55609cc5c1064f01a0604f36876f3fbe",
       "version_major": 2,
       "version_minor": 0
      },
      "text/plain": [
       "VBox()"
      ]
     },
     "metadata": {},
     "output_type": "display_data"
    },
    {
     "data": {
      "application/vnd.jupyter.widget-view+json": {
       "model_id": "",
       "version_major": 2,
       "version_minor": 0
      },
      "text/plain": [
       "FloatProgress(value=0.0, bar_style='info', description='Progress:', layout=Layout(height='25px', width='50%'),…"
      ]
     },
     "metadata": {},
     "output_type": "display_data"
    }
   ],
   "source": [
    "# Copying data of ATM Transactions fact to S3 bucket in CSV format\n",
    "fact_atm_trans.write.csv('s3://s3-spar-nord-etl-spark-redshift/FACT/FACT_ATM_TRANS', header=False, mode='overwrite')"
   ]
  },
  {
   "cell_type": "markdown",
   "id": "eb6351b8",
   "metadata": {},
   "source": [
    "# <font color='Chocolate'>CONCLUSION</font>\n",
    "- We have successfully read the source data from HDFS, performed transformations using Spark and splitted the data into dimensions and facts tables.\n",
    "- Later we have copied all the dimensions and fact data into S3 bucket **(s3://s3-spar-nord-etl-spark-redshift)** which can further be used to load it into **Amazon Redshift for Data Analysis.**"
   ]
  },
  {
   "cell_type": "code",
   "execution_count": null,
   "id": "9451c8f7",
   "metadata": {},
   "outputs": [],
   "source": []
  }
 ],
 "metadata": {
  "kernelspec": {
   "display_name": "PySpark",
   "language": "",
   "name": "pysparkkernel"
  },
  "language_info": {
   "codemirror_mode": {
    "name": "python",
    "version": 2
   },
   "mimetype": "text/x-python",
   "name": "pyspark",
   "pygments_lexer": "python2"
  }
 },
 "nbformat": 4,
 "nbformat_minor": 5
}
